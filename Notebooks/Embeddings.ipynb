{
 "cells": [
  {
   "cell_type": "code",
   "execution_count": 78,
   "metadata": {
    "collapsed": true
   },
   "outputs": [],
   "source": [
    "import pandas as pd\n",
    "import numpy as np\n",
    "from matplotlib import pyplot as plt\n",
    "%matplotlib inline\n",
    "import seaborn as sns\n",
    "import sys\n",
    "sys.path.insert(0, '../scripts')\n",
    "from utils import *"
   ]
  },
  {
   "cell_type": "code",
   "execution_count": 79,
   "metadata": {
    "collapsed": true
   },
   "outputs": [],
   "source": [
    "import gensim\n",
    "from gensim.models import word2vec, Word2Vec"
   ]
  },
  {
   "cell_type": "code",
   "execution_count": 80,
   "metadata": {
    "collapsed": true
   },
   "outputs": [],
   "source": [
    "plt.rcParams['figure.figsize'] = (12, 10)"
   ]
  },
  {
   "cell_type": "code",
   "execution_count": 81,
   "metadata": {
    "collapsed": true
   },
   "outputs": [],
   "source": [
    "from sklearn.linear_model import LogisticRegression"
   ]
  },
  {
   "cell_type": "code",
   "execution_count": 82,
   "metadata": {
    "collapsed": true
   },
   "outputs": [],
   "source": [
    "def get_average_embeddings_w2v(q1, q2):\n",
    "    vecs_q1 = []\n",
    "    vecs_q2 = []\n",
    "\n",
    "    for i, j in zip(q1, q2):\n",
    "        vecs_q1.append(sum(model.word_vec(x) if x in model.vocab else np.zeros(300) for x in i))\n",
    "        vecs_q2.append(sum(model.word_vec(x) if x in model.vocab else np.zeros(300) for x in j))\n",
    "        \n",
    "    vecs_q1, vecs_q2 = np.array(vecs_q1), np.array(vecs_q2)\n",
    "    w2v_dist = (vecs_q1 - vecs_q2)**2\n",
    "    w2v_avg_dist = np.mean(w2v_dist, axis=1)\n",
    "    return w2v_avg_dist"
   ]
  },
  {
   "cell_type": "code",
   "execution_count": 83,
   "metadata": {
    "collapsed": true
   },
   "outputs": [],
   "source": [
    "train_data = pd.read_csv('../data/clean-train.csv').dropna(axis=0)\n",
    "test_data = pd.read_csv('../data/clean-test.csv').dropna(axis=0)"
   ]
  },
  {
   "cell_type": "code",
   "execution_count": 84,
   "metadata": {
    "collapsed": true
   },
   "outputs": [],
   "source": [
    "q1_list = train_data['q1'].str.split(' ').values.tolist()\n",
    "q2_list = train_data['q2'].str.split(' ').values.tolist()"
   ]
  },
  {
   "cell_type": "code",
   "execution_count": 86,
   "metadata": {},
   "outputs": [],
   "source": [
    "q1_list_test = test_data['q1'].str.split(' ').values.tolist()\n",
    "q2_list_test = test_data['q2'].str.split(' ').values.tolist()"
   ]
  },
  {
   "cell_type": "markdown",
   "metadata": {},
   "source": [
    "## Word2Vec Embeddings"
   ]
  },
  {
   "cell_type": "code",
   "execution_count": 87,
   "metadata": {
    "collapsed": true
   },
   "outputs": [],
   "source": [
    "model = gensim.models.KeyedVectors.load_word2vec_format('../data/GoogleNews-vectors-negative300.bin', binary=True)"
   ]
  },
  {
   "cell_type": "code",
   "execution_count": 88,
   "metadata": {
    "collapsed": true
   },
   "outputs": [],
   "source": [
    "w2v_avg_dist = get_average_embeddings_w2v(q1_list, q2_list)\n",
    "w2v_avg_dist_test = get_average_embeddings_w2v(q1_list_test, q2_list_test)"
   ]
  },
  {
   "cell_type": "code",
   "execution_count": 89,
   "metadata": {
    "collapsed": true
   },
   "outputs": [],
   "source": [
    "w2v_train_df = pd.DataFrame(data={'avg_dist': w2v_avg_dist, 'is_same': train_data['is_same']})"
   ]
  },
  {
   "cell_type": "code",
   "execution_count": 90,
   "metadata": {
    "scrolled": false
   },
   "outputs": [
    {
     "name": "stderr",
     "output_type": "stream",
     "text": [
      "/Users/maded/anaconda/lib/python3.6/site-packages/ipykernel_launcher.py:2: FutureWarning: pd.groupby() is deprecated and will be removed Please use the Series.groupby() or DataFrame.groupby() methods\n",
      "  \n"
     ]
    },
    {
     "data": {
      "image/png": "[encoded data removed]",
      "text/plain": [
       "<matplotlib.figure.Figure at 0x2701d50b8>"
      ]
     },
     "metadata": {},
     "output_type": "display_data"
    }
   ],
   "source": [
    "ax = pd.groupby(w2v_train_df, pd.cut(w2v_train_df['avg_dist'],\n",
    "                                100))[['is_same']].mean().plot(title='Average Score vs. L2-Norm')\n",
    "plt.savefig('../images/l2w2v.png')"
   ]
  },
  {
   "cell_type": "code",
   "execution_count": 91,
   "metadata": {},
   "outputs": [
    {
     "name": "stderr",
     "output_type": "stream",
     "text": [
      "/Users/maded/anaconda/lib/python3.6/site-packages/sklearn/utils/validation.py:547: DataConversionWarning: A column-vector y was passed when a 1d array was expected. Please change the shape of y to (n_samples, ), for example using ravel().\n",
      "  y = column_or_1d(y, warn=True)\n"
     ]
    }
   ],
   "source": [
    "log_w2v = LogisticRegression(class_weight='balanced')\n",
    "log_w2v.fit(w2v_df['avg_dist'][:, np.newaxis], w2v_df['is_same'][:, np.newaxis]);"
   ]
  },
  {
   "cell_type": "code",
   "execution_count": 92,
   "metadata": {},
   "outputs": [
    {
     "name": "stdout",
     "output_type": "stream",
     "text": [
      "Loss Report\n",
      "-----------\n",
      "\n",
      "Accuracy Score: 0.6206\n",
      "ROC  AUC Score: 0.7255\n",
      "Log Loss Score: 0.6190\n"
     ]
    },
    {
     "data": {
      "text/plain": [
       "(0.62058772602468648, 0.7255169754496883, 0.6190482720563677)"
      ]
     },
     "execution_count": 92,
     "metadata": {},
     "output_type": "execute_result"
    }
   ],
   "source": [
    "generate_report(test_data['is_same'], log_w2v.predict(w2v_avg_dist_test[:, np.newaxis]),\n",
    "                    log_w2v.predict_proba(w2v_avg_dist_test[:, np.newaxis])[:, 1])"
   ]
  },
  {
   "cell_type": "markdown",
   "metadata": {},
   "source": [
    "## GloVe Embeddings"
   ]
  },
  {
   "cell_type": "code",
   "execution_count": 106,
   "metadata": {},
   "outputs": [],
   "source": [
    "from gensim.scripts import glove2word2vec"
   ]
  },
  {
   "cell_type": "code",
   "execution_count": null,
   "metadata": {},
   "outputs": [],
   "source": [
    "glove_model = gensim.models.KeyedVectors.load_word2vec_format('../data/glove.w2v.txt')"
   ]
  },
  {
   "cell_type": "code",
   "execution_count": null,
   "metadata": {
    "collapsed": true
   },
   "outputs": [],
   "source": [
    "glove_vecs_q1 = []\n",
    "glove_vecs_q2 = []\n",
    "\n",
    "for i, j in zip(q1_list, q2_list):\n",
    "    glove_vecs_q1.append(sum(glove_model.word_vec(x) if x in glove_model.vocab else np.zeros(300) for x in i))\n",
    "    glove_vecs_q2.append(sum(glove_model.word_vec(x) if x in glove_model.vocab else np.zeros(300) for x in j))\n",
    "\n",
    "glove_vecs_q1, glove_vecs_q2 = np.array(glove_vecs_q1), np.array(glove_vecs_q2)\n",
    "glove_dist = (glove_vecs_q1 - glove_vecs_q2)**2\n",
    "glove_avg_dist = np.mean(glove_dist, axis=1)"
   ]
  },
  {
   "cell_type": "code",
   "execution_count": null,
   "metadata": {
    "collapsed": true
   },
   "outputs": [],
   "source": [
    "glove_vecs_q1_test = []\n",
    "glove_vecs_q2_test = []\n",
    "\n",
    "for i, j in zip(q1_list_test, q2_list_test):\n",
    "    glove_vecs_q1_test.append(sum(glove_model.word_vec(x) if x in glove_model.vocab else np.zeros(300) for x in i))\n",
    "    glove_vecs_q2_test.append(sum(glove_model.word_vec(x) if x in glove_model.vocab else np.zeros(300) for x in j))\n",
    "\n",
    "glove_vecs_q1_test, glove_vecs_q2_test = np.array(glove_vecs_q1_test), np.array(glove_vecs_q2_test)\n",
    "glove_dist_test = (glove_vecs_q1_test - glove_vecs_q2_test)**2\n",
    "glove_avg_dist_test = np.mean(glove_dist_test, axis=1)"
   ]
  },
  {
   "cell_type": "code",
   "execution_count": null,
   "metadata": {
    "collapsed": true
   },
   "outputs": [],
   "source": [
    "glove_train_df = pd.DataFrame(data={'glove_avg_dist': w2v_avg_dist, 'is_same': train_data['is_same']})"
   ]
  },
  {
   "cell_type": "code",
   "execution_count": null,
   "metadata": {
    "collapsed": true
   },
   "outputs": [],
   "source": [
    "ax = pd.groupby(glove_train_df, pd.cut(glove_train_df['avg_dist'],\n",
    "                                100))[['is_same']].mean().plot(title='Average Score vs. L2-Norm in GloVe Space')\n",
    "plt.savefig('../images/l2w2v.png')"
   ]
  },
  {
   "cell_type": "code",
   "execution_count": null,
   "metadata": {
    "collapsed": true
   },
   "outputs": [],
   "source": [
    "log_glove = LogisticRegression(class_weight='balanced')\n",
    "log_glove.fit(glove_train_df['avg_dist'][:, np.newaxis], glove_train_df['is_same'][:, np.newaxis]);"
   ]
  },
  {
   "cell_type": "code",
   "execution_count": null,
   "metadata": {
    "collapsed": true
   },
   "outputs": [],
   "source": [
    "generate_report(test_data['is_same'], log_glove.predict(glove_avg_dist_test[:, np.newaxis]),\n",
    "                    log_glove.predict_proba(glove_avg_dist_test[:, np.newaxis])[:, 1])"
   ]
  }
 ],
 "metadata": {
  "kernelspec": {
   "display_name": "Python 3",
   "language": "python",
   "name": "python3"
  },
  "language_info": {
   "codemirror_mode": {
    "name": "ipython",
    "version": 3
   },
   "file_extension": ".py",
   "mimetype": "text/x-python",
   "name": "python",
   "nbconvert_exporter": "python",
   "pygments_lexer": "ipython3",
   "version": "3.6.1"
  }
 },
 "nbformat": 4,
 "nbformat_minor": 2
}
