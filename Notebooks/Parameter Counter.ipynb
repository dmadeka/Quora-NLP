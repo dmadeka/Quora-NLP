{
 "cells": [
  {
   "cell_type": "code",
   "execution_count": 2,
   "metadata": {},
   "outputs": [
    {
     "name": "stderr",
     "output_type": "stream",
     "text": [
      "Using TensorFlow backend.\n"
     ]
    }
   ],
   "source": [
    "import os\n",
    "os.environ['KERAS_BACKEND'] = 'tensorflow'\n",
    "from keras.layers import *\n",
    "from keras.models import Sequential"
   ]
  },
  {
   "cell_type": "code",
   "execution_count": 4,
   "metadata": {},
   "outputs": [
    {
     "name": "stdout",
     "output_type": "stream",
     "text": [
      "0: 2\n",
      "1: 3\n",
      "2: 4\n",
      "3: 5\n",
      "4: 6\n",
      "5: 7\n"
     ]
    }
   ],
   "source": [
    "for i in np.arange(6):\n",
    "    model = Sequential()\n",
    "    model.add(Dense(1, activation='sigmoid', input_dim=i+1))\n",
    "    model.compile(optimizer='adam', metrics=['accuracy'], loss='binary_crossentropy')\n",
    "    print('{}: {}'.format(i, model.count_params()))"
   ]
  },
  {
   "cell_type": "code",
   "execution_count": 5,
   "metadata": {},
   "outputs": [
    {
     "name": "stdout",
     "output_type": "stream",
     "text": [
      "0: 10401\n",
      "1: 10501\n",
      "2: 10601\n",
      "3: 10701\n",
      "4: 10801\n",
      "5: 10901\n"
     ]
    }
   ],
   "source": [
    "for i in np.arange(6):\n",
    "    model = Sequential()\n",
    "    model.add(Dense(100, activation='relu', input_dim=i+1))\n",
    "    model.add(Dense(100, activation='relu'))\n",
    "    model.add(Dense(1, activation='sigmoid'))\n",
    "    model.compile(optimizer='adam', metrics=['accuracy'], loss='binary_crossentropy')\n",
    "    print('{}: {}'.format(i, model.count_params()))"
   ]
  },
  {
   "cell_type": "code",
   "execution_count": 6,
   "metadata": {},
   "outputs": [],
   "source": [
    "mlp_model = Sequential([\n",
    "    Dense(32, input_shape=(2,)),\n",
    "    Activation('relu'),\n",
    "    Dense(20),\n",
    "    Activation('relu'),\n",
    "    Dense(1),\n",
    "    Activation('sigmoid'),\n",
    "])\n",
    "\n",
    "mlp_model.compile(optimizer='adam',\n",
    "              loss='binary_crossentropy',\n",
    "              metrics=['accuracy'])"
   ]
  },
  {
   "cell_type": "code",
   "execution_count": 7,
   "metadata": {},
   "outputs": [
    {
     "data": {
      "text/plain": [
       "777"
      ]
     },
     "execution_count": 7,
     "metadata": {},
     "output_type": "execute_result"
    }
   ],
   "source": [
    "mlp_model.count_params()"
   ]
  }
 ],
 "metadata": {
  "kernelspec": {
   "display_name": "Python 3",
   "language": "python",
   "name": "python3"
  },
  "language_info": {
   "codemirror_mode": {
    "name": "ipython",
    "version": 3
   },
   "file_extension": ".py",
   "mimetype": "text/x-python",
   "name": "python",
   "nbconvert_exporter": "python",
   "pygments_lexer": "ipython3",
   "version": "3.5.2"
  }
 },
 "nbformat": 4,
 "nbformat_minor": 2
}
