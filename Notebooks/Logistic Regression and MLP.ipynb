{
 "cells": [
  {
   "cell_type": "code",
   "execution_count": 29,
   "metadata": {
    "collapsed": true
   },
   "outputs": [],
   "source": [
    "import pandas as pd\n",
    "import numpy as np\n",
    "from matplotlib import pyplot as plt\n",
    "%matplotlib inline\n",
    "import seaborn as sns\n",
    "import sys\n",
    "sys.path.insert(0, '../scripts')\n",
    "from utils import *"
   ]
  },
  {
   "cell_type": "code",
   "execution_count": 30,
   "metadata": {
    "collapsed": true
   },
   "outputs": [],
   "source": [
    "plt.rcParams['figure.figsize'] = (12, 10)"
   ]
  },
  {
   "cell_type": "code",
   "execution_count": 31,
   "metadata": {
    "collapsed": true
   },
   "outputs": [],
   "source": [
    "from sklearn.linear_model import LogisticRegression\n",
    "from sklearn.neural_network import MLPClassifier"
   ]
  },
  {
   "cell_type": "code",
   "execution_count": 32,
   "metadata": {
    "collapsed": true
   },
   "outputs": [],
   "source": [
    "train_data = pd.read_csv('../data/clean-train.csv').dropna(axis=0)\n",
    "test_data = pd.read_csv('../data/clean-test.csv').dropna(axis=0)"
   ]
  },
  {
   "cell_type": "code",
   "execution_count": 33,
   "metadata": {
    "collapsed": true
   },
   "outputs": [],
   "source": [
    "max_ngram = 6"
   ]
  },
  {
   "cell_type": "code",
   "execution_count": 34,
   "metadata": {
    "collapsed": true
   },
   "outputs": [],
   "source": [
    "q1_list = train_data['q1'].str.split(' ')\n",
    "q2_list = train_data['q2'].str.split(' ')"
   ]
  },
  {
   "cell_type": "code",
   "execution_count": 35,
   "metadata": {
    "collapsed": true,
    "scrolled": true
   },
   "outputs": [],
   "source": [
    "counts = np.empty((q1_list.shape[0], max_ngram))\n",
    "\n",
    "for i in range(q1_list.shape[0]):\n",
    "    for j in range(max_ngram):\n",
    "        try:\n",
    "            counts[i, j] = count_similar(q1_list.iloc[i], q2_list.iloc[i], int(j)+1)\n",
    "        except:\n",
    "            print(i, j)"
   ]
  },
  {
   "cell_type": "code",
   "execution_count": 36,
   "metadata": {
    "collapsed": true
   },
   "outputs": [],
   "source": [
    "q1_list_test = test_data['q1'].str.split(' ')\n",
    "q2_list_test = test_data['q2'].str.split(' ')\n",
    "\n",
    "counts_test = np.empty((q1_list_test.shape[0], max_ngram))\n",
    "\n",
    "for i in range(q1_list_test.shape[0]):\n",
    "    for j in range(max_ngram):\n",
    "        counts_test[i, j] = count_similar(q1_list_test.iloc[i], q2_list_test.iloc[i], j+1)"
   ]
  },
  {
   "cell_type": "markdown",
   "metadata": {},
   "source": [
    "### Train Logistic Regression Model"
   ]
  },
  {
   "cell_type": "code",
   "execution_count": 37,
   "metadata": {
    "scrolled": true
   },
   "outputs": [
    {
     "name": "stdout",
     "output_type": "stream",
     "text": [
      "Regressions including all upto 1-Grams\n",
      "--------------------------------------\n",
      "Training Data\n",
      "-------------\n",
      "Loss Report\n",
      "-----------\n",
      "\n",
      "Accuracy Score: 0.6480\n",
      "ROC  AUC Score: 0.6885\n",
      "Log Loss Score: 0.6547\n",
      "\n",
      "\n",
      "Testing Data\n",
      "------------\n",
      "Loss Report\n",
      "-----------\n",
      "\n",
      "Accuracy Score: 0.6494\n",
      "ROC  AUC Score: 0.6893\n",
      "Log Loss Score: 0.6547\n",
      "\n",
      "\n",
      "Regressions including all upto 2-Grams\n",
      "--------------------------------------\n",
      "Training Data\n",
      "-------------\n",
      "Loss Report\n",
      "-----------\n",
      "\n",
      "Accuracy Score: 0.6202\n",
      "ROC  AUC Score: 0.6803\n",
      "Log Loss Score: 0.6510\n",
      "\n",
      "\n",
      "Testing Data\n",
      "------------\n",
      "Loss Report\n",
      "-----------\n",
      "\n",
      "Accuracy Score: 0.6217\n",
      "ROC  AUC Score: 0.6814\n",
      "Log Loss Score: 0.6510\n",
      "\n",
      "\n",
      "Regressions including all upto 3-Grams\n",
      "--------------------------------------\n",
      "Training Data\n",
      "-------------\n",
      "Loss Report\n",
      "-----------\n",
      "\n",
      "Accuracy Score: 0.6364\n",
      "ROC  AUC Score: 0.6895\n",
      "Log Loss Score: 0.6404\n",
      "\n",
      "\n",
      "Testing Data\n",
      "------------\n",
      "Loss Report\n",
      "-----------\n",
      "\n",
      "Accuracy Score: 0.6373\n",
      "ROC  AUC Score: 0.6903\n",
      "Log Loss Score: 0.6404\n",
      "\n",
      "\n",
      "Regressions including all upto 4-Grams\n",
      "--------------------------------------\n",
      "Training Data\n",
      "-------------\n",
      "Loss Report\n",
      "-----------\n",
      "\n",
      "Accuracy Score: 0.6327\n",
      "ROC  AUC Score: 0.6939\n",
      "Log Loss Score: 0.6359\n",
      "\n",
      "\n",
      "Testing Data\n",
      "------------\n",
      "Loss Report\n",
      "-----------\n",
      "\n",
      "Accuracy Score: 0.6330\n",
      "ROC  AUC Score: 0.6942\n",
      "Log Loss Score: 0.6362\n",
      "\n",
      "\n",
      "Regressions including all upto 5-Grams\n",
      "--------------------------------------\n",
      "Training Data\n",
      "-------------\n",
      "Loss Report\n",
      "-----------\n",
      "\n",
      "Accuracy Score: 0.6336\n",
      "ROC  AUC Score: 0.6966\n",
      "Log Loss Score: 0.6355\n",
      "\n",
      "\n",
      "Testing Data\n",
      "------------\n",
      "Loss Report\n",
      "-----------\n",
      "\n",
      "Accuracy Score: 0.6337\n",
      "ROC  AUC Score: 0.6969\n",
      "Log Loss Score: 0.6359\n",
      "\n",
      "\n",
      "Regressions including all upto 6-Grams\n",
      "--------------------------------------\n",
      "Training Data\n",
      "-------------\n",
      "Loss Report\n",
      "-----------\n",
      "\n",
      "Accuracy Score: 0.6333\n",
      "ROC  AUC Score: 0.6963\n",
      "Log Loss Score: 0.6355\n",
      "\n",
      "\n",
      "Testing Data\n",
      "------------\n",
      "Loss Report\n",
      "-----------\n",
      "\n",
      "Accuracy Score: 0.6335\n",
      "ROC  AUC Score: 0.6966\n",
      "Log Loss Score: 0.6359\n",
      "\n",
      "\n"
     ]
    }
   ],
   "source": [
    "regressions = []\n",
    "train_scores = np.empty((counts.shape[1], 3))\n",
    "test_scores = np.empty((counts.shape[1], 3))\n",
    "\n",
    "for i in range(counts.shape[1]):\n",
    "    prt_str = 'Regressions including all upto {}-Grams'.format(i+1)\n",
    "    print(prt_str)\n",
    "    print('-' * len(prt_str))\n",
    "    temp = LogisticRegression(class_weight='balanced')\n",
    "    temp.fit(counts[:, :(i+1)], train_data['is_same'])\n",
    "    print('Training Data')\n",
    "    print('-' * len('Training Data'))\n",
    "    train_scores[i, :] = generate_report(train_data['is_same'], temp.predict(counts[:, :(i+1)]),\n",
    "                temp.predict_proba(counts[:, :(i+1)])[:, 1])\n",
    "    print('')\n",
    "    print('')\n",
    "    print('Testing Data')\n",
    "    print('-' * len('Testing Data'))\n",
    "    test_scores[i, :] = generate_report(test_data['is_same'], temp.predict(counts_test[:, :(i+1)]),\n",
    "                    temp.predict_proba(counts_test[:, :(i+1)])[:, 1])\n",
    "    regressions.append(temp)\n",
    "    print('')\n",
    "    print('')"
   ]
  },
  {
   "cell_type": "code",
   "execution_count": 38,
   "metadata": {},
   "outputs": [
    {
     "data": {
      "text/plain": [
       "<matplotlib.legend.Legend at 0x11bc1f7b8>"
      ]
     },
     "execution_count": 38,
     "metadata": {},
     "output_type": "execute_result"
    },
    {
     "data": {
      "image/png": "[encoded data removed]",
      "text/plain": [
       "<matplotlib.figure.Figure at 0x13bc23080>"
      ]
     },
     "metadata": {},
     "output_type": "display_data"
    }
   ],
   "source": [
    "lineObjects = plt.plot(np.arange(1, max_ngram + 1), test_scores)\n",
    "plt.title('Logistic Regression - Train and Test Scores')\n",
    "plt.xlabel('Number of n-grams')\n",
    "plt.xticks(range(1, max_ngram + 1))\n",
    "lineObjects_train = plt.plot(np.arange(1, max_ngram + 1), train_scores)\n",
    "plt.legend(iter(lineObjects), ('Accuracy', 'AUC', 'Log Loss'), fontsize=14)"
   ]
  },
  {
   "cell_type": "markdown",
   "metadata": {},
   "source": [
    "### Train MLP Classifier"
   ]
  },
  {
   "cell_type": "code",
   "execution_count": 39,
   "metadata": {
    "scrolled": true
   },
   "outputs": [
    {
     "name": "stdout",
     "output_type": "stream",
     "text": [
      "MLP including all upto 1-Grams\n",
      "------------------------------\n",
      "Training Data\n",
      "-------------\n",
      "Loss Report\n",
      "-----------\n",
      "\n",
      "Accuracy Score: 0.6579\n",
      "ROC  AUC Score: 0.7010\n",
      "Log Loss Score: 0.5856\n",
      "\n",
      "\n",
      "Testing Data\n",
      "------------\n",
      "Loss Report\n",
      "-----------\n",
      "\n",
      "Accuracy Score: 0.6586\n",
      "ROC  AUC Score: 0.7013\n",
      "Log Loss Score: 0.5865\n",
      "\n",
      "\n",
      "MLP including all upto 2-Grams\n",
      "------------------------------\n",
      "Training Data\n",
      "-------------\n",
      "Loss Report\n",
      "-----------\n",
      "\n",
      "Accuracy Score: 0.6631\n",
      "ROC  AUC Score: 0.7106\n",
      "Log Loss Score: 0.5813\n",
      "\n",
      "\n",
      "Testing Data\n",
      "------------\n",
      "Loss Report\n",
      "-----------\n",
      "\n",
      "Accuracy Score: 0.6638\n",
      "ROC  AUC Score: 0.7106\n",
      "Log Loss Score: 0.5821\n",
      "\n",
      "\n",
      "MLP including all upto 3-Grams\n",
      "------------------------------\n",
      "Training Data\n",
      "-------------\n",
      "Loss Report\n",
      "-----------\n",
      "\n",
      "Accuracy Score: 0.6634\n",
      "ROC  AUC Score: 0.7121\n",
      "Log Loss Score: 0.5805\n",
      "\n",
      "\n",
      "Testing Data\n",
      "------------\n",
      "Loss Report\n",
      "-----------\n",
      "\n",
      "Accuracy Score: 0.6634\n",
      "ROC  AUC Score: 0.7122\n",
      "Log Loss Score: 0.5815\n",
      "\n",
      "\n",
      "MLP including all upto 4-Grams\n",
      "------------------------------\n",
      "Training Data\n",
      "-------------\n",
      "Loss Report\n",
      "-----------\n",
      "\n",
      "Accuracy Score: 0.6628\n",
      "ROC  AUC Score: 0.7115\n",
      "Log Loss Score: 0.5809\n",
      "\n",
      "\n",
      "Testing Data\n",
      "------------\n",
      "Loss Report\n",
      "-----------\n",
      "\n",
      "Accuracy Score: 0.6628\n",
      "ROC  AUC Score: 0.7114\n",
      "Log Loss Score: 0.5819\n",
      "\n",
      "\n",
      "MLP including all upto 5-Grams\n",
      "------------------------------\n",
      "Training Data\n",
      "-------------\n",
      "Loss Report\n",
      "-----------\n",
      "\n",
      "Accuracy Score: 0.6630\n",
      "ROC  AUC Score: 0.7118\n",
      "Log Loss Score: 0.5807\n",
      "\n",
      "\n",
      "Testing Data\n",
      "------------\n",
      "Loss Report\n",
      "-----------\n",
      "\n",
      "Accuracy Score: 0.6631\n",
      "ROC  AUC Score: 0.7120\n",
      "Log Loss Score: 0.5818\n",
      "\n",
      "\n",
      "MLP including all upto 6-Grams\n",
      "------------------------------\n",
      "Training Data\n",
      "-------------\n",
      "Loss Report\n",
      "-----------\n",
      "\n",
      "Accuracy Score: 0.6642\n",
      "ROC  AUC Score: 0.7127\n",
      "Log Loss Score: 0.5801\n",
      "\n",
      "\n",
      "Testing Data\n",
      "------------\n",
      "Loss Report\n",
      "-----------\n",
      "\n",
      "Accuracy Score: 0.6648\n",
      "ROC  AUC Score: 0.7130\n",
      "Log Loss Score: 0.5810\n",
      "\n",
      "\n"
     ]
    }
   ],
   "source": [
    "mlps = []\n",
    "train_scores_mlp = np.empty((counts.shape[1], 3))\n",
    "test_scores_mlp = np.empty((counts.shape[1], 3))\n",
    "\n",
    "for i in range(counts.shape[1]):\n",
    "    prt_str = 'MLP including all upto {}-Grams'.format(i+1)\n",
    "    print(prt_str)\n",
    "    print('-' * len(prt_str))\n",
    "    temp = MLPClassifier()\n",
    "    temp.fit(counts[:, :(i+1)], train_data['is_same'])\n",
    "    print('Training Data')\n",
    "    print('-' * len('Training Data'))\n",
    "    train_scores_mlp[i, :] = generate_report(train_data['is_same'], temp.predict(counts[:, :(i+1)]),\n",
    "                temp.predict_proba(counts[:, :(i+1)])[:, 1])\n",
    "    print('')\n",
    "    print('')\n",
    "    print('Testing Data')\n",
    "    print('-' * len('Testing Data'))\n",
    "    test_scores_mlp[i, :] = generate_report(test_data['is_same'], temp.predict(counts_test[:, :(i+1)]),\n",
    "                    temp.predict_proba(counts_test[:, :(i+1)])[:, 1])\n",
    "    mlps.append(temp)\n",
    "    print('')\n",
    "    print('')"
   ]
  },
  {
   "cell_type": "code",
   "execution_count": 40,
   "metadata": {},
   "outputs": [
    {
     "data": {
      "text/plain": [
       "<matplotlib.legend.Legend at 0x1165ab5f8>"
      ]
     },
     "execution_count": 40,
     "metadata": {},
     "output_type": "execute_result"
    },
    {
     "data": {
      "image/png": "[encoded data removed]",
      "text/plain": [
       "<matplotlib.figure.Figure at 0x125a6d400>"
      ]
     },
     "metadata": {},
     "output_type": "display_data"
    }
   ],
   "source": [
    "lineObjects = plt.plot(np.arange(1, max_ngram + 1), test_scores_mlp)\n",
    "plt.title('MLP - Train and Test Scores')\n",
    "plt.xticks(range(1, max_ngram + 1))\n",
    "lineObjects_train = plt.plot(np.arange(1, max_ngram + 1), train_scores_mlp)\n",
    "plt.legend(iter(lineObjects), ('Accuracy', 'AUC', 'Log Loss'), fontsize=14)"
   ]
  }
 ],
 "metadata": {
  "kernelspec": {
   "display_name": "Python 3",
   "language": "python",
   "name": "python3"
  },
  "language_info": {
   "codemirror_mode": {
    "name": "ipython",
    "version": 3
   },
   "file_extension": ".py",
   "mimetype": "text/x-python",
   "name": "python",
   "nbconvert_exporter": "python",
   "pygments_lexer": "ipython3",
   "version": "3.5.2"
  }
 },
 "nbformat": 4,
 "nbformat_minor": 2
}
