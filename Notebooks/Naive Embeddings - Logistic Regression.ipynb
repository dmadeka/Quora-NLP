{
 "cells": [
  {
   "cell_type": "code",
   "execution_count": 122,
   "metadata": {
    "collapsed": true
   },
   "outputs": [],
   "source": [
    "import pandas as pd\n",
    "import numpy as np\n",
    "from matplotlib import pyplot as plt\n",
    "%matplotlib inline\n",
    "import seaborn as sns\n",
    "import sys\n",
    "sys.path.insert(0, '../scripts')\n",
    "from utils import *"
   ]
  },
  {
   "cell_type": "code",
   "execution_count": 123,
   "metadata": {
    "collapsed": true
   },
   "outputs": [],
   "source": [
    "import gensim\n",
    "from gensim.models import word2vec, Word2Vec"
   ]
  },
  {
   "cell_type": "code",
   "execution_count": 124,
   "metadata": {
    "collapsed": true
   },
   "outputs": [],
   "source": [
    "plt.rcParams['figure.figsize'] = (12, 10)"
   ]
  },
  {
   "cell_type": "code",
   "execution_count": 125,
   "metadata": {
    "collapsed": true
   },
   "outputs": [],
   "source": [
    "from sklearn.linear_model import LogisticRegression"
   ]
  },
  {
   "cell_type": "code",
   "execution_count": 186,
   "metadata": {
    "collapsed": true
   },
   "outputs": [],
   "source": [
    "def get_vecs(q1, q2):\n",
    "    vecs_q1 = []\n",
    "    vecs_q2 = []\n",
    "\n",
    "    for i, j in zip(q1, q2):\n",
    "        vecs_q1.append(sum(model.word_vec(x) if x in model.vocab else np.zeros(300) for x in i))\n",
    "        vecs_q2.append(sum(model.word_vec(x) if x in model.vocab else np.zeros(300) for x in j))\n",
    "        \n",
    "    return np.array(vecs_q1), np.array(vecs_q2)\n",
    "\n",
    "def get_average_embeddings_w2v(q1, q2):\n",
    "    vecs_q1, vecs_q2 = get_vecs(q1, q2)\n",
    "    w2v_dist = (vecs_q1 - vecs_q2)**2\n",
    "    w2v_avg_dist = np.mean(w2v_dist, axis=1)\n",
    "    return w2v_avg_dist"
   ]
  },
  {
   "cell_type": "code",
   "execution_count": 139,
   "metadata": {
    "collapsed": true
   },
   "outputs": [],
   "source": [
    "train_data = pd.read_csv('../data/clean-train.csv').dropna(axis=0)\n",
    "test_data = pd.read_csv('../data/clean-test.csv').dropna(axis=0)"
   ]
  },
  {
   "cell_type": "code",
   "execution_count": 140,
   "metadata": {
    "collapsed": true
   },
   "outputs": [],
   "source": [
    "q1_list = train_data['q1'].str.split(' ').values.tolist()\n",
    "q2_list = train_data['q2'].str.split(' ').values.tolist()"
   ]
  },
  {
   "cell_type": "code",
   "execution_count": 141,
   "metadata": {
    "collapsed": true
   },
   "outputs": [],
   "source": [
    "q1_list_test = test_data['q1'].str.split(' ').values.tolist()\n",
    "q2_list_test = test_data['q2'].str.split(' ').values.tolist()"
   ]
  },
  {
   "cell_type": "markdown",
   "metadata": {},
   "source": [
    "## Word2Vec Embeddings"
   ]
  },
  {
   "cell_type": "code",
   "execution_count": 188,
   "metadata": {},
   "outputs": [],
   "source": [
    "model = gensim.models.KeyedVectors.load_word2vec_format('../data/GoogleNews-vectors-negative300.bin', binary=True)"
   ]
  },
  {
   "cell_type": "code",
   "execution_count": 189,
   "metadata": {},
   "outputs": [],
   "source": [
    "vecs_q1, vecs_q2 = get_vecs(q1_list, q2_list)\n",
    "vecs_q1_test, vecs_q2_test = get_vecs(q1_list_test, q2_list_test)"
   ]
  },
  {
   "cell_type": "code",
   "execution_count": 143,
   "metadata": {
    "collapsed": true
   },
   "outputs": [],
   "source": [
    "w2v_avg_dist = get_average_embeddings_w2v(q1_list, q2_list)\n",
    "w2v_avg_dist_test = get_average_embeddings_w2v(q1_list_test, q2_list_test)"
   ]
  },
  {
   "cell_type": "code",
   "execution_count": 144,
   "metadata": {
    "collapsed": true
   },
   "outputs": [],
   "source": [
    "w2v_train_df = pd.DataFrame(data={'avg_dist': w2v_avg_dist, 'is_same': train_data['is_same']})"
   ]
  },
  {
   "cell_type": "code",
   "execution_count": 145,
   "metadata": {
    "scrolled": false
   },
   "outputs": [
    {
     "name": "stderr",
     "output_type": "stream",
     "text": [
      "/Users/maded/anaconda/lib/python3.6/site-packages/ipykernel_launcher.py:2: FutureWarning: pd.groupby() is deprecated and will be removed Please use the Series.groupby() or DataFrame.groupby() methods\n",
      "  \n"
     ]
    },
    {
     "data": {
      "image/png": "[encoded data removed]",
      "text/plain": [
       "<matplotlib.figure.Figure at 0x4a2415390>"
      ]
     },
     "metadata": {},
     "output_type": "display_data"
    }
   ],
   "source": [
    "ax = pd.groupby(w2v_train_df, pd.cut(w2v_train_df['avg_dist'],\n",
    "                                100))[['is_same']].mean().plot(title='Average Score vs. L2-Norm')\n",
    "plt.savefig('../images/l2w2v.png')"
   ]
  },
  {
   "cell_type": "code",
   "execution_count": 146,
   "metadata": {},
   "outputs": [
    {
     "name": "stderr",
     "output_type": "stream",
     "text": [
      "/Users/maded/anaconda/lib/python3.6/site-packages/sklearn/utils/validation.py:547: DataConversionWarning: A column-vector y was passed when a 1d array was expected. Please change the shape of y to (n_samples, ), for example using ravel().\n",
      "  y = column_or_1d(y, warn=True)\n"
     ]
    }
   ],
   "source": [
    "log_w2v = LogisticRegression(class_weight='balanced')\n",
    "log_w2v.fit(w2v_df['avg_dist'][:, np.newaxis], w2v_df['is_same'][:, np.newaxis]);"
   ]
  },
  {
   "cell_type": "code",
   "execution_count": 147,
   "metadata": {},
   "outputs": [
    {
     "name": "stdout",
     "output_type": "stream",
     "text": [
      "Loss Report\n",
      "-----------\n",
      "\n",
      "Accuracy Score: 0.6206\n",
      "ROC  AUC Score: 0.7255\n",
      "Log Loss Score: 0.6190\n"
     ]
    },
    {
     "data": {
      "text/plain": [
       "(0.62058772602468648, 0.7255169754496883, 0.6190482720563677)"
      ]
     },
     "execution_count": 147,
     "metadata": {},
     "output_type": "execute_result"
    }
   ],
   "source": [
    "generate_report(test_data['is_same'], log_w2v.predict(w2v_avg_dist_test[:, np.newaxis]),\n",
    "                    log_w2v.predict_proba(w2v_avg_dist_test[:, np.newaxis])[:, 1])"
   ]
  },
  {
   "cell_type": "markdown",
   "metadata": {},
   "source": [
    "## GloVe Embeddings"
   ]
  },
  {
   "cell_type": "code",
   "execution_count": 137,
   "metadata": {
    "collapsed": true
   },
   "outputs": [],
   "source": [
    "from gensim.scripts import glove2word2vec"
   ]
  },
  {
   "cell_type": "code",
   "execution_count": 111,
   "metadata": {
    "collapsed": true
   },
   "outputs": [],
   "source": [
    "glove_model = gensim.models.KeyedVectors.load_word2vec_format('../data/glove.w2v.txt')"
   ]
  },
  {
   "cell_type": "code",
   "execution_count": 148,
   "metadata": {},
   "outputs": [],
   "source": [
    "glove_vecs_q1 = []\n",
    "glove_vecs_q2 = []\n",
    "\n",
    "for i, j in zip(q1_list, q2_list):\n",
    "    glove_vecs_q1.append(sum(glove_model.word_vec(x) if x in glove_model.vocab else np.zeros(300) for x in i))\n",
    "    glove_vecs_q2.append(sum(glove_model.word_vec(x) if x in glove_model.vocab else np.zeros(300) for x in j))\n",
    "\n",
    "glove_vecs_q1, glove_vecs_q2 = np.array(glove_vecs_q1), np.array(glove_vecs_q2)\n",
    "glove_dist = (glove_vecs_q1 - glove_vecs_q2)**2\n",
    "glove_avg_dist = np.mean(glove_dist, axis=1)"
   ]
  },
  {
   "cell_type": "code",
   "execution_count": 149,
   "metadata": {
    "collapsed": true
   },
   "outputs": [],
   "source": [
    "glove_vecs_q1_test = []\n",
    "glove_vecs_q2_test = []\n",
    "\n",
    "for i, j in zip(q1_list_test, q2_list_test):\n",
    "    glove_vecs_q1_test.append(sum(glove_model.word_vec(x) if x in glove_model.vocab else np.zeros(300) for x in i))\n",
    "    glove_vecs_q2_test.append(sum(glove_model.word_vec(x) if x in glove_model.vocab else np.zeros(300) for x in j))\n",
    "\n",
    "glove_vecs_q1_test, glove_vecs_q2_test = np.array(glove_vecs_q1_test), np.array(glove_vecs_q2_test)\n",
    "glove_dist_test = (glove_vecs_q1_test - glove_vecs_q2_test)**2\n",
    "glove_avg_dist_test = np.mean(glove_dist_test, axis=1)"
   ]
  },
  {
   "cell_type": "code",
   "execution_count": 150,
   "metadata": {
    "collapsed": true
   },
   "outputs": [],
   "source": [
    "glove_train_df = pd.DataFrame(data={'glove_avg_dist': glove_avg_dist, 'is_same': train_data['is_same']})"
   ]
  },
  {
   "cell_type": "code",
   "execution_count": 151,
   "metadata": {},
   "outputs": [
    {
     "name": "stderr",
     "output_type": "stream",
     "text": [
      "/Users/maded/anaconda/lib/python3.6/site-packages/ipykernel_launcher.py:2: FutureWarning: pd.groupby() is deprecated and will be removed Please use the Series.groupby() or DataFrame.groupby() methods\n",
      "  \n"
     ]
    },
    {
     "data": {
      "image/png": "[encoded data removed]",
      "text/plain": [
       "<matplotlib.figure.Figure at 0x4724d2dd8>"
      ]
     },
     "metadata": {},
     "output_type": "display_data"
    }
   ],
   "source": [
    "ax = pd.groupby(glove_train_df, pd.cut(glove_train_df['glove_avg_dist'],\n",
    "                                100))[['is_same']].mean().plot(title='Average Score vs. L2-Norm in GloVe Space')\n",
    "plt.savefig('../images/l2glove.png')"
   ]
  },
  {
   "cell_type": "code",
   "execution_count": 152,
   "metadata": {
    "scrolled": true
   },
   "outputs": [
    {
     "name": "stderr",
     "output_type": "stream",
     "text": [
      "/Users/maded/anaconda/lib/python3.6/site-packages/sklearn/utils/validation.py:547: DataConversionWarning: A column-vector y was passed when a 1d array was expected. Please change the shape of y to (n_samples, ), for example using ravel().\n",
      "  y = column_or_1d(y, warn=True)\n"
     ]
    }
   ],
   "source": [
    "log_glove = LogisticRegression(class_weight='balanced')\n",
    "log_glove.fit(glove_train_df['glove_avg_dist'][:, np.newaxis], glove_train_df['is_same'][:, np.newaxis]);"
   ]
  },
  {
   "cell_type": "code",
   "execution_count": 154,
   "metadata": {},
   "outputs": [
    {
     "name": "stdout",
     "output_type": "stream",
     "text": [
      "Loss Report\n",
      "-----------\n",
      "\n",
      "Accuracy Score: 0.5982\n",
      "ROC  AUC Score: 0.6831\n",
      "Log Loss Score: 0.6355\n"
     ]
    },
    {
     "data": {
      "text/plain": [
       "(0.59823880080144454, 0.68311755489981352, 0.63552639987932369)"
      ]
     },
     "execution_count": 154,
     "metadata": {},
     "output_type": "execute_result"
    }
   ],
   "source": [
    "generate_report(test_data['is_same'], log_glove.predict(glove_avg_dist_test[:, np.newaxis]),\n",
    "                    log_glove.predict_proba(glove_avg_dist_test[:, np.newaxis])[:, 1])"
   ]
  },
  {
   "cell_type": "markdown",
   "metadata": {},
   "source": [
    "## Adding Angle and L1-Distance"
   ]
  },
  {
   "cell_type": "code",
   "execution_count": 174,
   "metadata": {
    "collapsed": true
   },
   "outputs": [],
   "source": [
    "def get_angle(q1, q2):\n",
    "    angle = np.sum(q1 * q2, axis=1)\n",
    "    return angle\n",
    "\n",
    "def get_l1_dist(q1, q2):\n",
    "    dist = np.sum(np.abs(q1 - q2), axis=1)\n",
    "    return dist"
   ]
  },
  {
   "cell_type": "code",
   "execution_count": 175,
   "metadata": {},
   "outputs": [],
   "source": [
    "w2v_angle, glove_angle = get_angle(vecs_q1, vecs_q2), get_angle(glove_vecs_q1, glove_vecs_q2)"
   ]
  },
  {
   "cell_type": "code",
   "execution_count": 190,
   "metadata": {},
   "outputs": [],
   "source": [
    "w2v_angle_test, glove_angle_test = get_angle(vecs_q1_test, vecs_q2_test), get_angle(glove_vecs_q1_test,\n",
    "                                                                                    glove_vecs_q2_test)"
   ]
  },
  {
   "cell_type": "code",
   "execution_count": 176,
   "metadata": {
    "collapsed": true
   },
   "outputs": [],
   "source": [
    "w2v_dist, glove_dist = get_l1_dist(vecs_q1, vecs_q2), get_l1_dist(glove_vecs_q1, glove_vecs_q2)"
   ]
  },
  {
   "cell_type": "code",
   "execution_count": 192,
   "metadata": {},
   "outputs": [],
   "source": [
    "w2v_dist_test, glove_dist_test = get_l1_dist(vecs_q1_test, vecs_q2_test), get_l1_dist(glove_vecs_q1_test,\n",
    "                                                                                    glove_vecs_q2_test)"
   ]
  },
  {
   "cell_type": "code",
   "execution_count": 200,
   "metadata": {},
   "outputs": [],
   "source": [
    "from keras.models import Sequential\n",
    "from keras.layers import Dense, Activation\n",
    "from keras.utils import to_categorical\n",
    "\n",
    "mlp_model = Sequential([\n",
    "    Dense(32, input_shape=(2,)),\n",
    "    Activation('relu'),\n",
    "    Dense(20),\n",
    "    Activation('relu'),\n",
    "    Dense(1),\n",
    "    Activation('sigmoid'),\n",
    "])\n",
    "\n",
    "mlp_model.compile(optimizer='adam',\n",
    "              loss='binary_crossentropy',\n",
    "              metrics=['accuracy'])"
   ]
  },
  {
   "cell_type": "code",
   "execution_count": 201,
   "metadata": {},
   "outputs": [
    {
     "name": "stdout",
     "output_type": "stream",
     "text": [
      "Epoch 1/10\n",
      "323430/323430 [==============================] - 9s 28us/step - loss: 0.5959 - acc: 0.6641\n",
      "Epoch 2/10\n",
      "323430/323430 [==============================] - 8s 25us/step - loss: 0.5722 - acc: 0.6776\n",
      "Epoch 3/10\n",
      "323430/323430 [==============================] - 8s 26us/step - loss: 0.5670 - acc: 0.6802\n",
      "Epoch 4/10\n",
      "323430/323430 [==============================] - 8s 25us/step - loss: 0.5634 - acc: 0.6825\n",
      "Epoch 5/10\n",
      "323430/323430 [==============================] - 8s 25us/step - loss: 0.5616 - acc: 0.6848\n",
      "Epoch 6/10\n",
      "323430/323430 [==============================] - 8s 25us/step - loss: 0.5604 - acc: 0.6850\n",
      "Epoch 7/10\n",
      "323430/323430 [==============================] - 8s 25us/step - loss: 0.5590 - acc: 0.6870\n",
      "Epoch 8/10\n",
      "323430/323430 [==============================] - 8s 25us/step - loss: 0.5578 - acc: 0.6883\n",
      "Epoch 9/10\n",
      "323430/323430 [==============================] - 8s 25us/step - loss: 0.5572 - acc: 0.6889\n",
      "Epoch 10/10\n",
      "323430/323430 [==============================] - 8s 26us/step - loss: 0.5566 - acc: 0.6897\n"
     ]
    },
    {
     "data": {
      "text/plain": [
       "<keras.callbacks.History at 0x26d15deb8>"
      ]
     },
     "execution_count": 201,
     "metadata": {},
     "output_type": "execute_result"
    }
   ],
   "source": [
    "mlp_model.fit(np.vstack((w2v_angle, w2v_dist)).T, w2v_df['is_same'][:, np.newaxis], epochs=10, batch_size=64)"
   ]
  },
  {
   "cell_type": "code",
   "execution_count": 202,
   "metadata": {},
   "outputs": [
    {
     "name": "stdout",
     "output_type": "stream",
     "text": [
      "Loss Report\n",
      "-----------\n",
      "\n",
      "Accuracy Score: 0.6721\n",
      "ROC  AUC Score: 0.7331\n",
      "Log Loss Score: 0.5634\n"
     ]
    },
    {
     "data": {
      "text/plain": [
       "(0.67205085710045265, 0.73312106851972847, 0.56343881863910228)"
      ]
     },
     "execution_count": 202,
     "metadata": {},
     "output_type": "execute_result"
    }
   ],
   "source": [
    "preds = mlp_model.predict(np.vstack((w2v_angle_test, w2v_dist_test)).T).flatten()\n",
    "class_preds = (preds > 0.5).astype('int')\n",
    "generate_report(test_data['is_same'], class_preds,\n",
    "                preds)"
   ]
  },
  {
   "cell_type": "code",
   "execution_count": 203,
   "metadata": {},
   "outputs": [
    {
     "name": "stdout",
     "output_type": "stream",
     "text": [
      "Loss Report\n",
      "-----------\n",
      "\n",
      "Accuracy Score: 0.6335\n",
      "ROC  AUC Score: 0.7007\n",
      "Log Loss Score: 0.6902\n"
     ]
    },
    {
     "data": {
      "text/plain": [
       "(0.63345041680065306, 0.7007193604585622, 0.69023440339179054)"
      ]
     },
     "execution_count": 203,
     "metadata": {},
     "output_type": "execute_result"
    }
   ],
   "source": [
    "preds = mlp_model.predict(np.vstack((glove_angle_test, glove_dist_test)).T).flatten()\n",
    "class_preds = (preds > 0.5).astype('int')\n",
    "generate_report(test_data['is_same'], class_preds,\n",
    "                preds)"
   ]
  }
 ],
 "metadata": {
  "kernelspec": {
   "display_name": "Python 3",
   "language": "python",
   "name": "python3"
  },
  "language_info": {
   "codemirror_mode": {
    "name": "ipython",
    "version": 3
   },
   "file_extension": ".py",
   "mimetype": "text/x-python",
   "name": "python",
   "nbconvert_exporter": "python",
   "pygments_lexer": "ipython3",
   "version": "3.5.2"
  }
 },
 "nbformat": 4,
 "nbformat_minor": 2
}
