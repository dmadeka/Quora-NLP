{
 "cells": [
  {
   "cell_type": "code",
   "execution_count": 1,
   "metadata": {},
   "outputs": [],
   "source": [
    "import pandas as pd\n",
    "import numpy as np\n",
    "from matplotlib import pyplot as plt\n",
    "%matplotlib inline\n",
    "import seaborn as sns\n",
    "import sys\n",
    "sys.path.insert(0, '../scripts')\n",
    "from utils import *"
   ]
  },
  {
   "cell_type": "code",
   "execution_count": null,
   "metadata": {},
   "outputs": [],
   "source": [
    "plt.style.use('seaborn')"
   ]
  },
  {
   "cell_type": "code",
   "execution_count": 2,
   "metadata": {},
   "outputs": [],
   "source": [
    "plt.rcParams['figure.figsize'] = (12, 10)"
   ]
  },
  {
   "cell_type": "code",
   "execution_count": 3,
   "metadata": {},
   "outputs": [],
   "source": [
    "from sklearn.linear_model import LogisticRegression\n",
    "from sklearn.neural_network import MLPClassifier"
   ]
  },
  {
   "cell_type": "code",
   "execution_count": 4,
   "metadata": {
    "scrolled": true
   },
   "outputs": [
    {
     "name": "stderr",
     "output_type": "stream",
     "text": [
      "Using MXNet backend.\n"
     ]
    }
   ],
   "source": [
    "from keras.preprocessing.text import Tokenizer\n",
    "from keras.preprocessing.sequence import pad_sequences"
   ]
  },
  {
   "cell_type": "code",
   "execution_count": 5,
   "metadata": {},
   "outputs": [],
   "source": [
    "import datetime\n",
    "import time"
   ]
  },
  {
   "cell_type": "code",
   "execution_count": 19,
   "metadata": {},
   "outputs": [],
   "source": [
    "from keras.models import Model\n",
    "from keras.layers import Input, Bidirectional, LSTM, Merge, Flatten, Dense, Reshape, Dropout, BatchNormalization\n",
    "from keras.layers.embeddings import Embedding\n",
    "from keras.regularizers import l2\n",
    "from keras.callbacks import Callback, ModelCheckpoint\n",
    "from keras import backend as K\n",
    "from sklearn.model_selection import train_test_split\n",
    "from keras.engine.topology import merge"
   ]
  },
  {
   "cell_type": "code",
   "execution_count": 8,
   "metadata": {},
   "outputs": [],
   "source": [
    "train_data = pd.read_csv('../data/clean-train.csv').dropna(axis=0)\n",
    "test_data = pd.read_csv('../data/clean-test.csv').dropna(axis=0)"
   ]
  },
  {
   "cell_type": "code",
   "execution_count": 9,
   "metadata": {},
   "outputs": [],
   "source": [
    "q1_list = train_data['q1'].tolist()\n",
    "q2_list = train_data['q2'].tolist()"
   ]
  },
  {
   "cell_type": "code",
   "execution_count": 10,
   "metadata": {},
   "outputs": [],
   "source": [
    "vocab_size = 10000"
   ]
  },
  {
   "cell_type": "code",
   "execution_count": 12,
   "metadata": {},
   "outputs": [],
   "source": [
    "token = Tokenizer(nb_words=vocab_size)\n",
    "token.fit_on_texts(q1_list + q2_list)"
   ]
  },
  {
   "cell_type": "code",
   "execution_count": 13,
   "metadata": {},
   "outputs": [],
   "source": [
    "question1_seq = token.texts_to_sequences(q1_list)\n",
    "question2_seq = token.texts_to_sequences(q2_list)"
   ]
  },
  {
   "cell_type": "code",
   "execution_count": 14,
   "metadata": {},
   "outputs": [],
   "source": [
    "MAX_SEQUENCE_LENGTH = 25"
   ]
  },
  {
   "cell_type": "code",
   "execution_count": 15,
   "metadata": {},
   "outputs": [],
   "source": [
    "q1_data = pad_sequences(question1_seq, maxlen=MAX_SEQUENCE_LENGTH)\n",
    "q2_data = pad_sequences(question2_seq, maxlen=MAX_SEQUENCE_LENGTH)"
   ]
  },
  {
   "cell_type": "code",
   "execution_count": 16,
   "metadata": {},
   "outputs": [],
   "source": [
    "train_labels = train_data['is_same'].values"
   ]
  },
  {
   "cell_type": "code",
   "execution_count": 31,
   "metadata": {},
   "outputs": [],
   "source": [
    "MAX_SEQUENCE_LENGTH = 25\n",
    "WORD_EMBEDDING_DIM = 300\n",
    "SENT_EMBEDDING_DIM = 128\n",
    "VALIDATION_SPLIT = 0.1\n",
    "TEST_SPLIT = 0.1\n",
    "RNG_SEED = 13371447\n",
    "NB_EPOCHS = 150\n",
    "DROPOUT = 0.2\n",
    "BATCH_SIZE = 516\n",
    "nb_words = vocab_size"
   ]
  },
  {
   "cell_type": "code",
   "execution_count": 32,
   "metadata": {},
   "outputs": [],
   "source": [
    "gpus = 8\n",
    "gpu_list = []\n",
    "for i in range(gpus):\n",
    "    gpu_list.append('gpu({:.0f})'.format(i))"
   ]
  },
  {
   "cell_type": "code",
   "execution_count": 33,
   "metadata": {},
   "outputs": [],
   "source": [
    "question1 = Input(shape=(MAX_SEQUENCE_LENGTH,))\n",
    "question2 = Input(shape=(MAX_SEQUENCE_LENGTH,))\n",
    "\n",
    "q1 = Embedding(nb_words + 1, \n",
    "                 WORD_EMBEDDING_DIM, \n",
    "                 input_length=MAX_SEQUENCE_LENGTH, \n",
    "                 trainable=False)(question1)\n",
    "q1 = Bidirectional(LSTM(SENT_EMBEDDING_DIM, return_sequences=True), merge_mode=\"sum\")(q1)\n",
    "\n",
    "q2 = Embedding(nb_words + 1, \n",
    "                 WORD_EMBEDDING_DIM, \n",
    "                 input_length=MAX_SEQUENCE_LENGTH, \n",
    "                 trainable=False)(question2)\n",
    "q2 = Bidirectional(LSTM(SENT_EMBEDDING_DIM, return_sequences=True), merge_mode=\"sum\")(q2)\n",
    "\n",
    "attention = merge([q1,q2], mode='dot', dot_axes=1)\n",
    "attention = Flatten()(attention)\n",
    "attention = Dense((MAX_SEQUENCE_LENGTH*SENT_EMBEDDING_DIM))(attention)\n",
    "attention = Reshape((MAX_SEQUENCE_LENGTH, SENT_EMBEDDING_DIM))(attention)\n",
    "\n",
    "merged = merge([q1,attention], mode='sum', concat_axis=1)\n",
    "merged = Flatten()(merged)\n",
    "merged = Dense(200, activation='relu')(merged)\n",
    "merged = Dropout(DROPOUT)(merged)\n",
    "merged = BatchNormalization()(merged)\n",
    "merged = Dense(200, activation='relu')(merged)\n",
    "merged = Dropout(DROPOUT)(merged)\n",
    "merged = BatchNormalization()(merged)\n",
    "merged = Dense(200, activation='relu')(merged)\n",
    "merged = Dropout(DROPOUT)(merged)\n",
    "merged = BatchNormalization()(merged)\n",
    "merged = Dense(200, activation='relu')(merged)\n",
    "merged = Dropout(DROPOUT)(merged)\n",
    "merged = BatchNormalization()(merged)\n",
    "\n",
    "is_duplicate = Dense(1, activation='sigmoid')(merged)"
   ]
  },
  {
   "cell_type": "code",
   "execution_count": 34,
   "metadata": {},
   "outputs": [],
   "source": [
    "model = Model([question1,question2], is_duplicate)\n",
    "model.compile(loss='binary_crossentropy', optimizer='rmsprop', metrics=['accuracy'], context=gpu_list)"
   ]
  },
  {
   "cell_type": "code",
   "execution_count": null,
   "metadata": {
    "scrolled": false
   },
   "outputs": [
    {
     "name": "stdout",
     "output_type": "stream",
     "text": [
      "Starting training at 2017-12-11 23:09:53.212430\n",
      "Train on 291067 samples, validate on 32341 samples\n",
      "Epoch 1/150\n"
     ]
    },
    {
     "name": "stderr",
     "output_type": "stream",
     "text": [
      "/home/ubuntu/src/anaconda3/envs/keras1.2_p3/lib/python3.6/site-packages/mxnet/module/bucketing_module.py:385: UserWarning: Optimizer created manually outside Module but rescale_grad is not normalized to 1.0/batch_size/num_workers (1.0 vs. 0.001937984496124031). Is this intended?\n",
      "  force_init=force_init)\n"
     ]
    },
    {
     "name": "stdout",
     "output_type": "stream",
     "text": [
      "291067/291067 [==============================] - 156s - loss: 0.6483 - acc: 0.6268 - val_loss: 0.6654 - val_acc: 0.6370\n",
      "Epoch 2/150\n",
      "291067/291067 [==============================] - 154s - loss: 0.5892 - acc: 0.6845 - val_loss: 0.6120 - val_acc: 0.6711\n",
      "Epoch 3/150\n",
      "291067/291067 [==============================] - 154s - loss: 0.5694 - acc: 0.7017 - val_loss: 0.5934 - val_acc: 0.6848\n",
      "Epoch 4/150\n",
      "291067/291067 [==============================] - 155s - loss: 0.5569 - acc: 0.7102 - val_loss: 0.5700 - val_acc: 0.7053\n",
      "Epoch 5/150\n",
      "291067/291067 [==============================] - 153s - loss: 0.5490 - acc: 0.7162 - val_loss: 0.5630 - val_acc: 0.7035\n",
      "Epoch 6/150\n",
      "291067/291067 [==============================] - 153s - loss: 0.5420 - acc: 0.7209 - val_loss: 0.5951 - val_acc: 0.6640\n",
      "Epoch 7/150\n",
      "291067/291067 [==============================] - 153s - loss: 0.5356 - acc: 0.7256 - val_loss: 0.5676 - val_acc: 0.6994\n",
      "Epoch 8/150\n",
      "291067/291067 [==============================] - 155s - loss: 0.5297 - acc: 0.7301 - val_loss: 0.5681 - val_acc: 0.7057\n",
      "Epoch 9/150\n",
      "291067/291067 [==============================] - 156s - loss: 0.5223 - acc: 0.7349 - val_loss: 0.5539 - val_acc: 0.7287\n",
      "Epoch 10/150\n",
      "291067/291067 [==============================] - 153s - loss: 0.5137 - acc: 0.7406 - val_loss: 0.5540 - val_acc: 0.7129\n",
      "Epoch 11/150\n",
      "291067/291067 [==============================] - 153s - loss: 0.5064 - acc: 0.7446 - val_loss: 0.5445 - val_acc: 0.7157\n",
      "Epoch 12/150\n",
      "291067/291067 [==============================] - 153s - loss: 0.4997 - acc: 0.7484 - val_loss: 0.5271 - val_acc: 0.7217\n",
      "Epoch 13/150\n",
      "291067/291067 [==============================] - 153s - loss: 0.4930 - acc: 0.7526 - val_loss: 0.5429 - val_acc: 0.7061\n",
      "Epoch 14/150\n",
      "291067/291067 [==============================] - 156s - loss: 0.4873 - acc: 0.7563 - val_loss: 0.5185 - val_acc: 0.7396\n",
      "Epoch 15/150\n",
      "291067/291067 [==============================] - 153s - loss: 0.4814 - acc: 0.7610 - val_loss: 0.5211 - val_acc: 0.7374\n",
      "Epoch 16/150\n",
      "291067/291067 [==============================] - 155s - loss: 0.4755 - acc: 0.7652 - val_loss: 0.5233 - val_acc: 0.7402\n",
      "Epoch 17/150\n",
      "291067/291067 [==============================] - 155s - loss: 0.4699 - acc: 0.7679 - val_loss: 0.5041 - val_acc: 0.7485\n",
      "Epoch 18/150\n",
      "291067/291067 [==============================] - 285s - loss: 0.4646 - acc: 0.7713 - val_loss: 0.5280 - val_acc: 0.7356\n",
      "Epoch 19/150\n",
      "291067/291067 [==============================] - 226s - loss: 0.4587 - acc: 0.7751 - val_loss: 0.5086 - val_acc: 0.7420\n",
      "Epoch 20/150\n",
      "291067/291067 [==============================] - 202s - loss: 0.4530 - acc: 0.7779 - val_loss: 0.5216 - val_acc: 0.7317\n",
      "Epoch 21/150\n",
      "291067/291067 [==============================] - 229s - loss: 0.4474 - acc: 0.7811 - val_loss: 0.5253 - val_acc: 0.7356\n",
      "Epoch 22/150\n",
      "291067/291067 [==============================] - 307s - loss: 0.4417 - acc: 0.7854 - val_loss: 0.5082 - val_acc: 0.7432\n",
      "Epoch 23/150\n",
      "291067/291067 [==============================] - 305s - loss: 0.4367 - acc: 0.7883 - val_loss: 0.5091 - val_acc: 0.7387\n",
      "Epoch 24/150\n",
      "291067/291067 [==============================] - 310s - loss: 0.4310 - acc: 0.7912 - val_loss: 0.4998 - val_acc: 0.7529\n",
      "Epoch 25/150\n",
      "291067/291067 [==============================] - 305s - loss: 0.4249 - acc: 0.7954 - val_loss: 0.5314 - val_acc: 0.7320\n",
      "Epoch 26/150\n",
      "291067/291067 [==============================] - 304s - loss: 0.4201 - acc: 0.7982 - val_loss: 0.5198 - val_acc: 0.7405\n",
      "Epoch 27/150\n",
      "291067/291067 [==============================] - 307s - loss: 0.4144 - acc: 0.8003 - val_loss: 0.5025 - val_acc: 0.7559\n",
      "Epoch 28/150\n",
      "291067/291067 [==============================] - 307s - loss: 0.4085 - acc: 0.8043 - val_loss: 0.5176 - val_acc: 0.7469\n",
      "Epoch 29/150\n",
      "291067/291067 [==============================] - 304s - loss: 0.4038 - acc: 0.8074 - val_loss: 0.5413 - val_acc: 0.7420\n",
      "Epoch 30/150\n",
      "291067/291067 [==============================] - 307s - loss: 0.3974 - acc: 0.8103 - val_loss: 0.5315 - val_acc: 0.7443\n",
      "Epoch 31/150\n",
      "291067/291067 [==============================] - 308s - loss: 0.3915 - acc: 0.8138 - val_loss: 0.5246 - val_acc: 0.7452\n",
      "Epoch 32/150\n",
      "291067/291067 [==============================] - 303s - loss: 0.3872 - acc: 0.8161 - val_loss: 0.5456 - val_acc: 0.7385\n",
      "Epoch 33/150\n",
      "291067/291067 [==============================] - 308s - loss: 0.3806 - acc: 0.8196 - val_loss: 0.5419 - val_acc: 0.7512\n",
      "Epoch 34/150\n",
      "100620/291067 [=========>....................] - ETA: 199s - loss: 0.3703 - acc: 0.8249"
     ]
    }
   ],
   "source": [
    "print(\"Starting training at\", datetime.datetime.now())\n",
    "t0 = time.time()\n",
    "callbacks = [ModelCheckpoint('./checkpoint-test', monitor='val_acc', save_best_only=True)]\n",
    "history = model.fit([q1_data, q2_data],\n",
    "                    train_labels,\n",
    "                    nb_epoch=NB_EPOCHS,\n",
    "                    validation_split=VALIDATION_SPLIT,\n",
    "                    batch_size=BATCH_SIZE,\n",
    "                    callbacks=callbacks)\n",
    "t1 = time.time()\n",
    "print(\"Training ended at\", datetime.datetime.now())\n",
    "print(\"Minutes elapsed: %f\" % ((t1 - t0) / 60.))"
   ]
  },
  {
   "cell_type": "code",
   "execution_count": 37,
   "metadata": {},
   "outputs": [],
   "source": [
    "q1_list_test = test_data['q1'].tolist()\n",
    "q2_list_test = test_data['q2'].tolist()\n",
    "\n",
    "question1_seq_test = token.texts_to_sequences(q1_list_test)\n",
    "question2_seq_test = token.texts_to_sequences(q2_list_test)\n",
    "\n",
    "q1_data_test = pad_sequences(question1_seq_test, maxlen=MAX_SEQUENCE_LENGTH)\n",
    "q2_data_test = pad_sequences(question2_seq_test, maxlen=MAX_SEQUENCE_LENGTH)\n",
    "\n",
    "test_labels = test_data['is_same'].values"
   ]
  },
  {
   "cell_type": "code",
   "execution_count": 39,
   "metadata": {},
   "outputs": [
    {
     "data": {
      "text/plain": [
       "<matplotlib.legend.Legend at 0x7fd0c0ef4208>"
      ]
     },
     "execution_count": 39,
     "metadata": {},
     "output_type": "execute_result"
    },
    {
     "data": {
      "image/png": "[encoded data removed]",
      "text/plain": [
       "<matplotlib.figure.Figure at 0x7fd0c65d6a90>"
      ]
     },
     "metadata": {},
     "output_type": "display_data"
    }
   ],
   "source": [
    "plt.plot(np.arange(1, 151), history.history['acc'], label='Training')\n",
    "plt.plot(np.arange(1, 151), history.history['val_acc'], label='Validation')\n",
    "plt.xlabel('Epoch')\n",
    "plt.ylabel('Accuracy')\n",
    "plt.title('Accuracy History')\n",
    "plt.legend()"
   ]
  },
  {
   "cell_type": "code",
   "execution_count": 40,
   "metadata": {},
   "outputs": [
    {
     "data": {
      "text/plain": [
       "<matplotlib.legend.Legend at 0x7fd06deed080>"
      ]
     },
     "execution_count": 40,
     "metadata": {},
     "output_type": "execute_result"
    },
    {
     "data": {
      "image/png": "[encoded data removed]",
      "text/plain": [
       "<matplotlib.figure.Figure at 0x7fd06ded1550>"
      ]
     },
     "metadata": {},
     "output_type": "display_data"
    }
   ],
   "source": [
    "plt.plot(history.history['loss'], label='Training Loss')\n",
    "plt.plot(history.history['val_loss'], label='Validation Loss')\n",
    "plt.xlabel('Epoch')\n",
    "plt.ylabel('Log Loss')\n",
    "plt.title('Loss History')\n",
    "plt.legend()"
   ]
  },
  {
   "cell_type": "code",
   "execution_count": 41,
   "metadata": {},
   "outputs": [],
   "source": [
    "preds = model.predict([q1_data_test, q2_data_test]).flatten()"
   ]
  },
  {
   "cell_type": "code",
   "execution_count": 42,
   "metadata": {},
   "outputs": [],
   "source": [
    "classes = (preds > 0.5).astype('int').flatten()"
   ]
  },
  {
   "cell_type": "code",
   "execution_count": 43,
   "metadata": {},
   "outputs": [
    {
     "name": "stdout",
     "output_type": "stream",
     "text": [
      "Loss Report\n",
      "-----------\n",
      "\n",
      "Accuracy Score: 0.7613\n",
      "ROC  AUC Score: 0.8137\n",
      "Log Loss Score: nan\n"
     ]
    },
    {
     "name": "stderr",
     "output_type": "stream",
     "text": [
      "/home/ubuntu/src/anaconda3/envs/keras1.2_p3/lib/python3.6/site-packages/sklearn/metrics/classification.py:1694: RuntimeWarning: divide by zero encountered in log\n",
      "  loss = -(transformed_labels * np.log(y_pred)).sum(axis=1)\n",
      "/home/ubuntu/src/anaconda3/envs/keras1.2_p3/lib/python3.6/site-packages/sklearn/metrics/classification.py:1694: RuntimeWarning: invalid value encountered in multiply\n",
      "  loss = -(transformed_labels * np.log(y_pred)).sum(axis=1)\n"
     ]
    },
    {
     "data": {
      "text/plain": [
       "(0.76126103841492077, 0.81370307018033516, nan)"
      ]
     },
     "execution_count": 43,
     "metadata": {},
     "output_type": "execute_result"
    }
   ],
   "source": [
    "generate_report(test_labels, classes.flatten(), preds.flatten())"
   ]
  }
 ],
 "metadata": {
  "kernelspec": {
   "display_name": "Python (KerasMXNet)",
   "language": "python",
   "name": "mxnet"
  },
  "language_info": {
   "codemirror_mode": {
    "name": "ipython",
    "version": 3
   },
   "file_extension": ".py",
   "mimetype": "text/x-python",
   "name": "python",
   "nbconvert_exporter": "python",
   "pygments_lexer": "ipython3",
   "version": "3.6.2"
  }
 },
 "nbformat": 4,
 "nbformat_minor": 2
}
