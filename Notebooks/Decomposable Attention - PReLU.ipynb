{
 "cells": [
  {
   "cell_type": "code",
   "execution_count": 1,
   "metadata": {},
   "outputs": [],
   "source": [
    "import os\n",
    "os.environ['KERAS_BACKEND'] = 'tensorflow'"
   ]
  },
  {
   "cell_type": "code",
   "execution_count": 2,
   "metadata": {},
   "outputs": [],
   "source": [
    "import pandas as pd\n",
    "import numpy as np\n",
    "from matplotlib import pyplot as plt\n",
    "%matplotlib inline\n",
    "import seaborn as sns\n",
    "import sys\n",
    "sys.path.insert(0, '../scripts')\n",
    "from utils import *"
   ]
  },
  {
   "cell_type": "code",
   "execution_count": 3,
   "metadata": {},
   "outputs": [
    {
     "name": "stderr",
     "output_type": "stream",
     "text": [
      "Using TensorFlow backend.\n"
     ]
    }
   ],
   "source": [
    "from keras.preprocessing.text import Tokenizer\n",
    "from keras.preprocessing.sequence import pad_sequences"
   ]
  },
  {
   "cell_type": "code",
   "execution_count": 4,
   "metadata": {},
   "outputs": [],
   "source": [
    "plt.rcParams['figure.figsize'] = (12, 10)"
   ]
  },
  {
   "cell_type": "code",
   "execution_count": 5,
   "metadata": {},
   "outputs": [],
   "source": [
    "train_data = pd.read_csv('../data/clean-train.csv').dropna(axis=0)\n",
    "test_data = pd.read_csv('../data/clean-test.csv').dropna(axis=0)"
   ]
  },
  {
   "cell_type": "code",
   "execution_count": 6,
   "metadata": {},
   "outputs": [],
   "source": [
    "q1_list = train_data['q1'].tolist()\n",
    "q2_list = train_data['q2'].tolist()"
   ]
  },
  {
   "cell_type": "code",
   "execution_count": 7,
   "metadata": {},
   "outputs": [],
   "source": [
    "vocab_size = 10000"
   ]
  },
  {
   "cell_type": "code",
   "execution_count": 8,
   "metadata": {},
   "outputs": [
    {
     "name": "stderr",
     "output_type": "stream",
     "text": [
      "/usr/local/lib/python3.5/dist-packages/keras/preprocessing/text.py:145: UserWarning: The `nb_words` argument in `Tokenizer` has been renamed `num_words`.\n",
      "  warnings.warn('The `nb_words` argument in `Tokenizer` '\n"
     ]
    }
   ],
   "source": [
    "token = Tokenizer(nb_words=vocab_size)\n",
    "token.fit_on_texts(q1_list + q2_list)"
   ]
  },
  {
   "cell_type": "code",
   "execution_count": 9,
   "metadata": {},
   "outputs": [],
   "source": [
    "question1_seq = token.texts_to_sequences(q1_list)\n",
    "question2_seq = token.texts_to_sequences(q2_list)"
   ]
  },
  {
   "cell_type": "code",
   "execution_count": 10,
   "metadata": {},
   "outputs": [],
   "source": [
    "unique_words = {}\n",
    "\n",
    "for sent in q1_list+q2_list:\n",
    "    for word in sent.split(' '):\n",
    "        unique_words[word] = 1."
   ]
  },
  {
   "cell_type": "code",
   "execution_count": 11,
   "metadata": {},
   "outputs": [],
   "source": [
    "MAX_SEQUENCE_LENGTH = 25"
   ]
  },
  {
   "cell_type": "code",
   "execution_count": 12,
   "metadata": {},
   "outputs": [],
   "source": [
    "q1_data = pad_sequences(question1_seq, maxlen=MAX_SEQUENCE_LENGTH)\n",
    "q2_data = pad_sequences(question2_seq, maxlen=MAX_SEQUENCE_LENGTH)"
   ]
  },
  {
   "cell_type": "code",
   "execution_count": 13,
   "metadata": {},
   "outputs": [],
   "source": [
    "import gensim\n",
    "from gensim.models import word2vec, Word2Vec"
   ]
  },
  {
   "cell_type": "code",
   "execution_count": 14,
   "metadata": {},
   "outputs": [],
   "source": [
    "def get_vecs(q1, q2):\n",
    "    vecs_q1 = []\n",
    "    vecs_q2 = []\n",
    "\n",
    "    for i, j in zip(q1, q2):\n",
    "        vecs_q1.append(sum(model.word_vec(x) if x in model.vocab else np.zeros(300) for x in i))\n",
    "        vecs_q2.append(sum(model.word_vec(x) if x in model.vocab else np.zeros(300) for x in j))\n",
    "        \n",
    "    return np.array(vecs_q1), np.array(vecs_q2)"
   ]
  },
  {
   "cell_type": "code",
   "execution_count": 15,
   "metadata": {},
   "outputs": [],
   "source": [
    "model = gensim.models.KeyedVectors.load_word2vec_format('../data/glove.w2v.txt')"
   ]
  },
  {
   "cell_type": "code",
   "execution_count": 16,
   "metadata": {},
   "outputs": [],
   "source": [
    "embed = np.empty((len(unique_words.keys()), 300))\n",
    "\n",
    "for i, word in enumerate(unique_words.keys()):\n",
    "    embed[i, :] = model.word_vec(word) if word in model.vocab else np.zeros(300)"
   ]
  },
  {
   "cell_type": "code",
   "execution_count": 17,
   "metadata": {},
   "outputs": [],
   "source": [
    "from parikh import build_model"
   ]
  },
  {
   "cell_type": "code",
   "execution_count": 18,
   "metadata": {},
   "outputs": [],
   "source": [
    "from keras.layers import *\n",
    "from keras.callbacks import EarlyStopping, ModelCheckpoint"
   ]
  },
  {
   "cell_type": "code",
   "execution_count": 19,
   "metadata": {},
   "outputs": [],
   "source": [
    "compare_layers = [\n",
    "    Dense(1000),\n",
    "    PReLU(),\n",
    "    Dropout(0.3),\n",
    "    Dense(1000),\n",
    "    PReLU(),\n",
    "    Dropout(0.3),\n",
    "]"
   ]
  },
  {
   "cell_type": "code",
   "execution_count": 20,
   "metadata": {},
   "outputs": [],
   "source": [
    "from parikh import *"
   ]
  },
  {
   "cell_type": "code",
   "execution_count": 21,
   "metadata": {},
   "outputs": [],
   "source": [
    "decomposable_model = build_model(embed, num_class=1, maxlen=25, compare_layers=compare_layers)"
   ]
  },
  {
   "cell_type": "code",
   "execution_count": 22,
   "metadata": {},
   "outputs": [],
   "source": [
    "decomposable_model.compile(\n",
    "    optimizer='adam',\n",
    "    loss='binary_crossentropy',\n",
    "    metrics=['accuracy'])"
   ]
  },
  {
   "cell_type": "code",
   "execution_count": 23,
   "metadata": {},
   "outputs": [
    {
     "name": "stdout",
     "output_type": "stream",
     "text": [
      "Train on 291067 samples, validate on 32341 samples\n",
      "Epoch 1/100\n",
      "291067/291067 [==============================] - 1302s 4ms/step - loss: 0.5630 - acc: 0.6952 - val_loss: 0.6378 - val_acc: 0.6691\n",
      "Epoch 2/100\n",
      "291067/291067 [==============================] - 1189s 4ms/step - loss: 0.5275 - acc: 0.7202 - val_loss: 1.5988 - val_acc: 0.6277\n",
      "Epoch 3/100\n",
      "291067/291067 [==============================] - 1191s 4ms/step - loss: 0.5144 - acc: 0.7287 - val_loss: 3.2600 - val_acc: 0.6277\n"
     ]
    },
    {
     "data": {
      "text/plain": [
       "<keras.callbacks.History at 0x7f927073cb38>"
      ]
     },
     "execution_count": 23,
     "metadata": {},
     "output_type": "execute_result"
    }
   ],
   "source": [
    "callbacks = [ModelCheckpoint('../Saved Models/decomposable-noattention', monitor='val_acc', save_best_only=True),\n",
    "            EarlyStopping(monitor='val_acc', patience=2)]\n",
    "decomposable_model.fit([q1_data, q2_data], train_data['is_same'], validation_split=0.1, epochs=100,\n",
    "                      callbacks=callbacks)"
   ]
  },
  {
   "cell_type": "code",
   "execution_count": 24,
   "metadata": {},
   "outputs": [],
   "source": [
    "q1_list_test = test_data['q1'].tolist()\n",
    "q2_list_test = test_data['q2'].tolist()\n",
    "\n",
    "question1_seq_test = token.texts_to_sequences(q1_list_test)\n",
    "question2_seq_test = token.texts_to_sequences(q2_list_test)\n",
    "\n",
    "q1_data_test = pad_sequences(question1_seq_test, maxlen=MAX_SEQUENCE_LENGTH)\n",
    "q2_data_test = pad_sequences(question2_seq_test, maxlen=MAX_SEQUENCE_LENGTH)\n",
    "\n",
    "test_labels = test_data['is_same'].values"
   ]
  },
  {
   "cell_type": "code",
   "execution_count": 25,
   "metadata": {},
   "outputs": [],
   "source": [
    "preds = decomposable_model.predict([q1_data_test, q2_data_test])"
   ]
  },
  {
   "cell_type": "code",
   "execution_count": 26,
   "metadata": {},
   "outputs": [],
   "source": [
    "classes = (preds > 0.5).astype('int').flatten()"
   ]
  },
  {
   "cell_type": "code",
   "execution_count": 27,
   "metadata": {},
   "outputs": [
    {
     "name": "stdout",
     "output_type": "stream",
     "text": [
      "Loss Report\n",
      "-----------\n",
      "\n",
      "Accuracy Score: 0.6296\n",
      "ROC  AUC Score: 0.7094\n",
      "Log Loss Score: 4.0996\n"
     ]
    },
    {
     "data": {
      "text/plain": [
       "(0.62956687362406316, 0.70943894594464341, 4.0996062390497867)"
      ]
     },
     "execution_count": 27,
     "metadata": {},
     "output_type": "execute_result"
    }
   ],
   "source": [
    "generate_report(test_labels, classes.flatten(), preds.flatten())"
   ]
  },
  {
   "cell_type": "code",
   "execution_count": 28,
   "metadata": {},
   "outputs": [],
   "source": [
    "attn_1 = Model(inputs=decomposable_model.input,\n",
    "                                 outputs=decomposable_model.layers[8].output)\n",
    "attn_1_out = attn_1.predict([q1_data_test[:100], q2_data_test[:100]])"
   ]
  },
  {
   "cell_type": "code",
   "execution_count": 29,
   "metadata": {},
   "outputs": [],
   "source": [
    "attn_2 = Model(inputs=decomposable_model.input,\n",
    "                                 outputs=decomposable_model.layers[10].output)\n",
    "attn_2_out = attn_2.predict([q1_data_test[:100], q2_data_test[:100]])"
   ]
  },
  {
   "cell_type": "code",
   "execution_count": 30,
   "metadata": {
    "scrolled": true
   },
   "outputs": [],
   "source": [
    "idx = train_data['is_same'][:100][train_data['is_same'][:100] > 0].index.tolist()"
   ]
  },
  {
   "cell_type": "code",
   "execution_count": 31,
   "metadata": {},
   "outputs": [],
   "source": [
    "from mpl_toolkits.axes_grid1 import make_axes_locatable"
   ]
  },
  {
   "cell_type": "code",
   "execution_count": 32,
   "metadata": {},
   "outputs": [
    {
     "data": {
      "image/png": "[encoded data removed]",
      "text/plain": [
       "<matplotlib.figure.Figure at 0x7f925854d208>"
      ]
     },
     "metadata": {},
     "output_type": "display_data"
    }
   ],
   "source": [
    "i = np.random.choice(idx)\n",
    "\n",
    "fig, ax = plt.subplots(1, 2)\n",
    "\n",
    "im = ax[0].imshow(attn_1_out[i], cmap='viridis')\n",
    "ax[0].set_title(q1_list[i])\n",
    "divider = make_axes_locatable(ax[0])\n",
    "cax = divider.append_axes(\"right\", size=\"5%\", pad=0.05)\n",
    "\n",
    "plt.colorbar(im, cax=cax)\n",
    "\n",
    "ax[1].imshow(attn_2_out[i], cmap='viridis')\n",
    "ax[1].set_title(q2_list[i])\n",
    "plt.tight_layout();"
   ]
  },
  {
   "cell_type": "code",
   "execution_count": 33,
   "metadata": {},
   "outputs": [
    {
     "data": {
      "image/png": "[encoded data removed]",
      "text/plain": [
       "<matplotlib.figure.Figure at 0x7f925854d0b8>"
      ]
     },
     "metadata": {},
     "output_type": "display_data"
    }
   ],
   "source": [
    "i = np.random.choice(idx)\n",
    "\n",
    "fig, ax = plt.subplots(1, 2)\n",
    "\n",
    "im = ax[0].imshow(attn_1_out[i], cmap='magma')\n",
    "ax[0].set_title(q1_list[i])\n",
    "divider = make_axes_locatable(ax[0])\n",
    "cax = divider.append_axes(\"right\", size=\"5%\", pad=0.05)\n",
    "\n",
    "plt.colorbar(im, cax=cax)\n",
    "\n",
    "ax[1].imshow(attn_2_out[i], cmap='magma')\n",
    "ax[1].set_title(q2_list[i])\n",
    "divider = make_axes_locatable(ax[1])\n",
    "cax = divider.append_axes(\"right\", size=\"5%\", pad=0.05)\n",
    "\n",
    "plt.colorbar(im, cax=cax)\n",
    "plt.tight_layout();"
   ]
  }
 ],
 "metadata": {
  "kernelspec": {
   "display_name": "Python 3",
   "language": "python",
   "name": "python3"
  },
  "language_info": {
   "codemirror_mode": {
    "name": "ipython",
    "version": 3
   },
   "file_extension": ".py",
   "mimetype": "text/x-python",
   "name": "python",
   "nbconvert_exporter": "python",
   "pygments_lexer": "ipython3",
   "version": "3.5.2"
  }
 },
 "nbformat": 4,
 "nbformat_minor": 2
}
