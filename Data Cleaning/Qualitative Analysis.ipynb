{
 "cells": [
  {
   "cell_type": "code",
   "execution_count": 3,
   "metadata": {},
   "outputs": [],
   "source": [
    "from matplotlib import pyplot as plt\n",
    "import pandas as pd\n",
    "import numpy as np\n",
    "import tqdm\n",
    "plt.style.use('ggplot')\n",
    "%matplotlib inline"
   ]
  },
  {
   "cell_type": "code",
   "execution_count": 4,
   "metadata": {},
   "outputs": [],
   "source": [
    "plt.rcParams['figure.figsize'] = (10, 6)"
   ]
  },
  {
   "cell_type": "code",
   "execution_count": 12,
   "metadata": {},
   "outputs": [],
   "source": [
    "from IPython.display import clear_output"
   ]
  },
  {
   "cell_type": "code",
   "execution_count": 15,
   "metadata": {},
   "outputs": [],
   "source": [
    "train_data = pd.read_csv('../data/quora_duplicate_questions.tsv', sep='\\t').dropna(axis=0)"
   ]
  },
  {
   "cell_type": "code",
   "execution_count": 19,
   "metadata": {},
   "outputs": [],
   "source": [
    "idx_similar = train_data[train_data['is_duplicate'] > 0].index.tolist()\n",
    "idx_dissimilar = train_data[train_data['is_duplicate'] == 0].index.tolist()"
   ]
  },
  {
   "cell_type": "code",
   "execution_count": 25,
   "metadata": {},
   "outputs": [
    {
     "name": "stdout",
     "output_type": "stream",
     "text": [
      "Similar Sentences\n",
      "----------------------------------------\n",
      "If India is a secular country, why is it spending taxpayers' money on subsidy for Hajj pilgrimage?\n",
      "Is India really the only nation where subsidy is provided for the Hajj pilgrimage?\n",
      "----------------------------------------\n",
      "Dis-Similar Sentences\n",
      "----------------------------------------\n",
      "What are some good mixers for scotch (JW Black Label as my standby)?\n",
      "What are some good cigar/scotch pairings?\n",
      "Similar Sentences\n",
      "----------------------------------------\n",
      "What are your New Year's resolutions for 2017?\n",
      "What are some of your New Year's resolutions for 2017?\n",
      "----------------------------------------\n",
      "Dis-Similar Sentences\n",
      "----------------------------------------\n",
      "How can I work at Google?\n",
      "How do I make the most of working at Google?\n",
      "Similar Sentences\n",
      "----------------------------------------\n",
      "How do I recover my Gmail account if I forgot my Gmail password?\n",
      "How do I reset my gmail password when I forgot my gmail password?\n",
      "----------------------------------------\n",
      "Dis-Similar Sentences\n",
      "----------------------------------------\n",
      "Why did Vladimir Novakovski leave Addepar?\n",
      "What's Andy Lei's role at Addepar?\n",
      "Similar Sentences\n",
      "----------------------------------------\n",
      "What are best programming WhatsApp status?\n",
      "What are some best programmer WhatsApp status?\n",
      "----------------------------------------\n",
      "Dis-Similar Sentences\n",
      "----------------------------------------\n",
      "Why should I learn Python instead of Java?\n",
      "Between Java and Python, which one is better to learn first and why?\n",
      "Similar Sentences\n",
      "----------------------------------------\n",
      "My girlfriend speaks Japanese, and as a native English speaker, what would be the best way to learn Japanese?\n",
      "How can I learn Japanese?\n",
      "----------------------------------------\n",
      "Dis-Similar Sentences\n",
      "----------------------------------------\n",
      "How long does it take to charge MI 20000mah power bank for the first time?\n",
      "Should I have a quick charge 3.0 power bank?\n",
      "Similar Sentences\n",
      "----------------------------------------\n",
      "What is the meaning of living life?\n",
      "What is the exact meaning of life?\n",
      "----------------------------------------\n",
      "Dis-Similar Sentences\n",
      "----------------------------------------\n",
      "What should I do to make career in mechatronics?\n",
      "How can I start my career in mechatronics?\n",
      "Similar Sentences\n",
      "----------------------------------------\n",
      "What the meaning of this all life?\n",
      "What is meaning of life, the universe and everything?\n",
      "----------------------------------------\n",
      "Dis-Similar Sentences\n",
      "----------------------------------------\n",
      "What are typical salaries in the fracking industry for those without 4 year degrees?\n",
      "How can someone earn significant salary at a young age without a degree?\n",
      "Similar Sentences\n",
      "----------------------------------------\n",
      "What are the best ways to grow facial hair faster?\n",
      "How does one grow facial hair?\n",
      "----------------------------------------\n",
      "Dis-Similar Sentences\n",
      "----------------------------------------\n",
      "What are the best websites for bank exams preparation?\n",
      "Which is the best institute for Bank PO and SSC exam preparation?\n",
      "Similar Sentences\n",
      "----------------------------------------\n",
      "What does organic mean?\n",
      "What does organic or bio really mean?\n",
      "----------------------------------------\n",
      "Dis-Similar Sentences\n",
      "----------------------------------------\n",
      "How many users are there on Instagram in Germany?\n",
      "How many users does Instagram have?\n",
      "Similar Sentences\n",
      "----------------------------------------\n",
      "What is your favorite genre of music and why?\n",
      "What’s your favorite type of music to listen to?\n",
      "----------------------------------------\n",
      "Dis-Similar Sentences\n",
      "----------------------------------------\n",
      "How do you open Facebook without a password?\n",
      "How do I shut down my Facebook account without the password or knowing my friends?\n"
     ]
    }
   ],
   "source": [
    "for k in np.arange(10):\n",
    "    i = np.random.choice(idx_similar)\n",
    "    j = np.random.choice(idx_dissimilar)\n",
    "    print('Similar Sentences')\n",
    "    print('-' * 40)\n",
    "    print(train_data['question1'][i])\n",
    "    print(train_data['question2'][i])\n",
    "    print('-' * 40)\n",
    "\n",
    "    print('Dis-Similar Sentences')\n",
    "    print('-' * 40)\n",
    "    print(train_data['question1'][j])\n",
    "    print(train_data['question2'][j])"
   ]
  }
 ],
 "metadata": {
  "kernelspec": {
   "display_name": "Python 3",
   "language": "python",
   "name": "python3"
  },
  "language_info": {
   "codemirror_mode": {
    "name": "ipython",
    "version": 3
   },
   "file_extension": ".py",
   "mimetype": "text/x-python",
   "name": "python",
   "nbconvert_exporter": "python",
   "pygments_lexer": "ipython3",
   "version": "3.5.2"
  }
 },
 "nbformat": 4,
 "nbformat_minor": 2
}
